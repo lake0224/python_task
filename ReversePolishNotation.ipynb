{
 "cells": [
  {
   "cell_type": "code",
   "execution_count": 59,
   "metadata": {},
   "outputs": [
    {
     "name": "stdout",
     "output_type": "stream",
     "text": [
      "18 7 9 + * 3 3 + /\n"
     ]
    }
   ],
   "source": [
    "box = input()"
   ]
  },
  {
   "cell_type": "code",
   "execution_count": 60,
   "metadata": {},
   "outputs": [],
   "source": [
    "box_list = box.split(' ')"
   ]
  },
  {
   "cell_type": "code",
   "execution_count": 61,
   "metadata": {},
   "outputs": [],
   "source": [
    "mark = ['+','-','*','/']"
   ]
  },
  {
   "cell_type": "code",
   "execution_count": 62,
   "metadata": {
    "collapsed": true
   },
   "outputs": [],
   "source": [
    "def plas(x,y):\n",
    "    return x + y\n",
    "def mainus(x,y):\n",
    "    return x - y\n",
    "def dial(x,y):\n",
    "    return x*y\n",
    "def waru(x,y):\n",
    "    return x/y"
   ]
  },
  {
   "cell_type": "code",
   "execution_count": 70,
   "metadata": {},
   "outputs": [
    {
     "name": "stdout",
     "output_type": "stream",
     "text": [
      "答えは48.0です\n"
     ]
    }
   ],
   "source": [
    "mon=[]\n",
    "for implement in box_list:\n",
    "    if implement not in mark:\n",
    "        mon.append(implement)\n",
    "    else:\n",
    "        a = float(mon.pop(-2))\n",
    "        b = float(mon.pop(-1))\n",
    "        if str(implement) is '+':\n",
    "            mon.append(plas(a,b))\n",
    "            continue\n",
    "        if str(implement) is '-':\n",
    "            mon.append(mainus(a,b))\n",
    "            continue\n",
    "        if str(implement) is '*':\n",
    "            mon.append(dial(a,b))\n",
    "            continue\n",
    "        if str(implement) is '/':\n",
    "            mon.append(waru(a,b))\n",
    "            continue\n",
    "        else:\n",
    "            print('error')\n",
    "            break\n",
    "\n",
    "if len(mon) == 1:\n",
    "    print(\"答えは{}です\".format(mon[0]))\n",
    "else:\n",
    "    print(\"式が間違えています\")"
   ]
  },
  {
   "cell_type": "code",
   "execution_count": null,
   "metadata": {},
   "outputs": [],
   "source": []
  },
  {
   "cell_type": "code",
   "execution_count": null,
   "metadata": {
    "collapsed": true
   },
   "outputs": [],
   "source": []
  }
 ],
 "metadata": {
  "kernelspec": {
   "display_name": "Python 3",
   "language": "python",
   "name": "python3"
  },
  "language_info": {
   "codemirror_mode": {
    "name": "ipython",
    "version": 3
   },
   "file_extension": ".py",
   "mimetype": "text/x-python",
   "name": "python",
   "nbconvert_exporter": "python",
   "pygments_lexer": "ipython3",
   "version": "3.6.3"
  }
 },
 "nbformat": 4,
 "nbformat_minor": 2
}
